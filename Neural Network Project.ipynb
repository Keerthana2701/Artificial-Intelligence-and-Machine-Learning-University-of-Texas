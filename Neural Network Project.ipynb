{
 "cells": [
  {
   "cell_type": "markdown",
   "metadata": {},
   "source": [
    "# Neural Network Project - Keerthana Punithan"
   ]
  },
  {
   "cell_type": "code",
   "execution_count": 26,
   "metadata": {},
   "outputs": [],
   "source": [
    "import pandas as pd\n",
    "import numpy as np\n",
    "import seaborn as sns\n",
    "import matplotlib.pyplot as plt\n",
    "%matplotlib inline\n",
    "import h5py\n",
    "from tensorflow.keras.utils import to_categorical\n",
    "from sklearn import preprocessing\n",
    "from sklearn.model_selection import train_test_split\n",
    "import tensorflow\n",
    "from tensorflow.keras.models import Sequential\n",
    "from tensorflow.keras.layers import Activation, Dense, Dropout,Flatten\n",
    "from tensorflow.keras import optimizers"
   ]
  },
  {
   "cell_type": "markdown",
   "metadata": {},
   "source": [
    "## Read the data from the h5py file and understand the train/test splits"
   ]
  },
  {
   "cell_type": "code",
   "execution_count": 27,
   "metadata": {},
   "outputs": [],
   "source": [
    "data=h5py.File('SVHN_single_grey1.h5','r')"
   ]
  },
  {
   "cell_type": "code",
   "execution_count": 28,
   "metadata": {},
   "outputs": [
    {
     "data": {
      "text/plain": [
       "<KeysViewHDF5 ['X_test', 'X_train', 'X_val', 'y_test', 'y_train', 'y_val']>"
      ]
     },
     "execution_count": 28,
     "metadata": {},
     "output_type": "execute_result"
    }
   ],
   "source": [
    "data.keys()"
   ]
  },
  {
   "cell_type": "code",
   "execution_count": 29,
   "metadata": {},
   "outputs": [],
   "source": [
    "X_train = data['X_train'][:]\n",
    "y_train = data['y_train'][:]\n",
    "X_test = data['X_test'][:]\n",
    "y_test = data['y_test'][:]\n",
    "X_val = data['X_val'][:]\n",
    "y_val = data['y_val'][:]"
   ]
  },
  {
   "cell_type": "code",
   "execution_count": 30,
   "metadata": {},
   "outputs": [
    {
     "name": "stdout",
     "output_type": "stream",
     "text": [
      "Training set (42000, 32, 32) (42000,)\n",
      "Validation set (60000, 32, 32) (60000,)\n",
      "Test set (18000, 32, 32) (18000,)\n"
     ]
    }
   ],
   "source": [
    "print('Training set', X_train.shape, y_train.shape)\n",
    "print('Validation set', X_val.shape, y_val.shape)\n",
    "print('Test set', X_test.shape, y_test.shape)"
   ]
  },
  {
   "cell_type": "markdown",
   "metadata": {},
   "source": [
    "## Reshape and normalize the train and test features "
   ]
  },
  {
   "cell_type": "code",
   "execution_count": 31,
   "metadata": {},
   "outputs": [
    {
     "data": {
      "image/png": "[encoded data removed]",
      "text/plain": [
       "<Figure size 432x288 with 1 Axes>"
      ]
     },
     "metadata": {
      "needs_background": "light"
     },
     "output_type": "display_data"
    }
   ],
   "source": [
    "plt.imshow(X_train[0])    # show first number in the dataset\n",
    "plt.show()"
   ]
  },
  {
   "cell_type": "code",
   "execution_count": 32,
   "metadata": {},
   "outputs": [
    {
     "data": {
      "image/png": "[encoded data removed]",
      "text/plain": [
       "<Figure size 432x288 with 1 Axes>"
      ]
     },
     "metadata": {
      "needs_background": "light"
     },
     "output_type": "display_data"
    }
   ],
   "source": [
    "plt.imshow(X_test[0])    # show first number in the dataset\n",
    "plt.show()"
   ]
  },
  {
   "cell_type": "code",
   "execution_count": 33,
   "metadata": {},
   "outputs": [],
   "source": [
    "X_train = X_train.reshape((X_train.shape[0], -1))\n",
    "X_test = X_test.reshape((X_test.shape[0], -1))"
   ]
  },
  {
   "cell_type": "code",
   "execution_count": 34,
   "metadata": {},
   "outputs": [
    {
     "name": "stdout",
     "output_type": "stream",
     "text": [
      "Training set (42000, 1024) (42000,)\n",
      "Validation set (60000, 32, 32) (60000,)\n",
      "Test set (18000, 1024) (18000,)\n"
     ]
    }
   ],
   "source": [
    "print('Training set', X_train.shape, y_train.shape)\n",
    "print('Validation set', X_val.shape, y_val.shape)\n",
    "print('Test set', X_test.shape, y_test.shape)"
   ]
  },
  {
   "cell_type": "code",
   "execution_count": 35,
   "metadata": {},
   "outputs": [],
   "source": [
    "X_train = preprocessing.normalize(X_train)"
   ]
  },
  {
   "cell_type": "code",
   "execution_count": 36,
   "metadata": {},
   "outputs": [],
   "source": [
    "X_test = preprocessing.normalize(X_test)"
   ]
  },
  {
   "cell_type": "markdown",
   "metadata": {},
   "source": [
    "## One hot encode the labels for train and test data"
   ]
  },
  {
   "cell_type": "code",
   "execution_count": 37,
   "metadata": {},
   "outputs": [],
   "source": [
    "# converting y data into categorical (one-hot encoding)\n",
    "\n",
    "y_train = to_categorical(y_train)\n",
    "y_test = to_categorical(y_test)"
   ]
  },
  {
   "cell_type": "code",
   "execution_count": 38,
   "metadata": {},
   "outputs": [
    {
     "data": {
      "text/plain": [
       "array([[0., 0., 1., ..., 0., 0., 0.],\n",
       "       [0., 0., 0., ..., 0., 0., 0.],\n",
       "       [0., 0., 0., ..., 1., 0., 0.],\n",
       "       ...,\n",
       "       [0., 0., 0., ..., 1., 0., 0.],\n",
       "       [1., 0., 0., ..., 0., 0., 0.],\n",
       "       [0., 0., 0., ..., 0., 0., 0.]], dtype=float32)"
      ]
     },
     "execution_count": 38,
     "metadata": {},
     "output_type": "execute_result"
    }
   ],
   "source": [
    "y_train"
   ]
  },
  {
   "cell_type": "code",
   "execution_count": 39,
   "metadata": {},
   "outputs": [
    {
     "data": {
      "text/plain": [
       "array([[0., 1., 0., ..., 0., 0., 0.],\n",
       "       [0., 0., 0., ..., 1., 0., 0.],\n",
       "       [0., 0., 1., ..., 0., 0., 0.],\n",
       "       ...,\n",
       "       [0., 0., 0., ..., 1., 0., 0.],\n",
       "       [0., 0., 0., ..., 0., 0., 1.],\n",
       "       [0., 0., 1., ..., 0., 0., 0.]], dtype=float32)"
      ]
     },
     "execution_count": 39,
     "metadata": {},
     "output_type": "execute_result"
    }
   ],
   "source": [
    "y_test"
   ]
  },
  {
   "cell_type": "markdown",
   "metadata": {},
   "source": [
    "## Define the model architecture using TensorFlow with a flatten layer followed by dense layers with activation as ReLu and softmax "
   ]
  },
  {
   "cell_type": "code",
   "execution_count": 13,
   "metadata": {},
   "outputs": [],
   "source": [
    "model = Sequential()   "
   ]
  },
  {
   "cell_type": "code",
   "execution_count": 15,
   "metadata": {},
   "outputs": [],
   "source": [
    "model.add(Flatten())\n",
    "model.add(Activation('relu'))\n",
    "model.add(Dense(50))\n",
    "model.add(Activation('sigmoid'))\n",
    "model.add(Dense(50))\n",
    "model.add(Activation('sigmoid'))\n",
    "model.add(Dense(10))\n",
    "model.add(Activation('softmax'))"
   ]
  },
  {
   "cell_type": "markdown",
   "metadata": {},
   "source": [
    "## Compile the model with loss as categorical cross-entropy and adam optimizers. Use accuracy as the metric for evaluation"
   ]
  },
  {
   "cell_type": "code",
   "execution_count": 16,
   "metadata": {},
   "outputs": [],
   "source": [
    "adam = optimizers.Adam(lr = 0.001)"
   ]
  },
  {
   "cell_type": "code",
   "execution_count": 17,
   "metadata": {},
   "outputs": [],
   "source": [
    "model.compile(optimizer='adam', loss='categorical_crossentropy',metrics=['accuracy'])"
   ]
  },
  {
   "cell_type": "markdown",
   "metadata": {},
   "source": [
    "## Fit and evaluate the model. Print the loss and accuracy for the test data"
   ]
  },
  {
   "cell_type": "code",
   "execution_count": 40,
   "metadata": {},
   "outputs": [
    {
     "name": "stdout",
     "output_type": "stream",
     "text": [
      "Epoch 1/200\n",
      "1313/1313 [==============================] - 2s 1ms/step - loss: 0.5054 - accuracy: 0.8459\n",
      "Epoch 2/200\n",
      "1313/1313 [==============================] - 2s 1ms/step - loss: 0.5058 - accuracy: 0.8443\n",
      "Epoch 3/200\n",
      "1313/1313 [==============================] - 2s 1ms/step - loss: 0.5034 - accuracy: 0.8456\n",
      "Epoch 4/200\n",
      "1313/1313 [==============================] - 2s 1ms/step - loss: 0.5013 - accuracy: 0.8475\n",
      "Epoch 5/200\n",
      "1313/1313 [==============================] - 2s 1ms/step - loss: 0.5013 - accuracy: 0.8483\n",
      "Epoch 6/200\n",
      "1313/1313 [==============================] - 2s 1ms/step - loss: 0.5020 - accuracy: 0.8466\n",
      "Epoch 7/200\n",
      "1313/1313 [==============================] - 2s 1ms/step - loss: 0.4991 - accuracy: 0.8471\n",
      "Epoch 8/200\n",
      "1313/1313 [==============================] - 2s 1ms/step - loss: 0.4982 - accuracy: 0.8498\n",
      "Epoch 9/200\n",
      "1313/1313 [==============================] - 2s 2ms/step - loss: 0.4993 - accuracy: 0.8471\n",
      "Epoch 10/200\n",
      "1313/1313 [==============================] - 2s 2ms/step - loss: 0.4974 - accuracy: 0.8474\n",
      "Epoch 11/200\n",
      "1313/1313 [==============================] - 2s 2ms/step - loss: 0.4943 - accuracy: 0.8510\n",
      "Epoch 12/200\n",
      "1313/1313 [==============================] - 3s 2ms/step - loss: 0.4963 - accuracy: 0.8489\n",
      "Epoch 13/200\n",
      "1313/1313 [==============================] - 3s 2ms/step - loss: 0.4942 - accuracy: 0.8495\n",
      "Epoch 14/200\n",
      "1313/1313 [==============================] - 3s 2ms/step - loss: 0.4947 - accuracy: 0.8503\n",
      "Epoch 15/200\n",
      "1313/1313 [==============================] - 2s 2ms/step - loss: 0.4937 - accuracy: 0.8492\n",
      "Epoch 16/200\n",
      "1313/1313 [==============================] - 2s 1ms/step - loss: 0.4913 - accuracy: 0.8507\n",
      "Epoch 17/200\n",
      "1313/1313 [==============================] - 2s 1ms/step - loss: 0.4933 - accuracy: 0.8489\n",
      "Epoch 18/200\n",
      "1313/1313 [==============================] - 2s 2ms/step - loss: 0.4904 - accuracy: 0.8510\n",
      "Epoch 19/200\n",
      "1313/1313 [==============================] - 2s 1ms/step - loss: 0.4884 - accuracy: 0.8501\n",
      "Epoch 20/200\n",
      "1313/1313 [==============================] - 2s 2ms/step - loss: 0.4885 - accuracy: 0.8514\n",
      "Epoch 21/200\n",
      "1313/1313 [==============================] - 2s 1ms/step - loss: 0.4870 - accuracy: 0.8507\n",
      "Epoch 22/200\n",
      "1313/1313 [==============================] - 2s 1ms/step - loss: 0.4882 - accuracy: 0.8506\n",
      "Epoch 23/200\n",
      "1313/1313 [==============================] - 2s 2ms/step - loss: 0.4862 - accuracy: 0.8519\n",
      "Epoch 24/200\n",
      "1313/1313 [==============================] - 2s 1ms/step - loss: 0.4859 - accuracy: 0.8526\n",
      "Epoch 25/200\n",
      "1313/1313 [==============================] - 2s 2ms/step - loss: 0.4843 - accuracy: 0.8520\n",
      "Epoch 26/200\n",
      "1313/1313 [==============================] - 2s 1ms/step - loss: 0.4845 - accuracy: 0.8526\n",
      "Epoch 27/200\n",
      "1313/1313 [==============================] - 2s 1ms/step - loss: 0.4832 - accuracy: 0.8521\n",
      "Epoch 28/200\n",
      "1313/1313 [==============================] - 2s 2ms/step - loss: 0.4832 - accuracy: 0.8526\n",
      "Epoch 29/200\n",
      "1313/1313 [==============================] - 2s 1ms/step - loss: 0.4816 - accuracy: 0.8522\n",
      "Epoch 30/200\n",
      "1313/1313 [==============================] - 2s 1ms/step - loss: 0.4815 - accuracy: 0.8530\n",
      "Epoch 31/200\n",
      "1313/1313 [==============================] - 2s 1ms/step - loss: 0.4808 - accuracy: 0.8525\n",
      "Epoch 32/200\n",
      "1313/1313 [==============================] - 2s 1ms/step - loss: 0.4782 - accuracy: 0.8529\n",
      "Epoch 33/200\n",
      "1313/1313 [==============================] - 2s 2ms/step - loss: 0.4792 - accuracy: 0.8531\n",
      "Epoch 34/200\n",
      "1313/1313 [==============================] - 2s 1ms/step - loss: 0.4769 - accuracy: 0.8528\n",
      "Epoch 35/200\n",
      "1313/1313 [==============================] - 2s 1ms/step - loss: 0.4779 - accuracy: 0.8530\n",
      "Epoch 36/200\n",
      "1313/1313 [==============================] - 2s 1ms/step - loss: 0.4761 - accuracy: 0.8545\n",
      "Epoch 37/200\n",
      "1313/1313 [==============================] - 2s 2ms/step - loss: 0.4766 - accuracy: 0.8536\n",
      "Epoch 38/200\n",
      "1313/1313 [==============================] - 2s 2ms/step - loss: 0.4757 - accuracy: 0.8541\n",
      "Epoch 39/200\n",
      "1313/1313 [==============================] - 2s 1ms/step - loss: 0.4755 - accuracy: 0.8553\n",
      "Epoch 40/200\n",
      "1313/1313 [==============================] - 2s 1ms/step - loss: 0.4738 - accuracy: 0.8536\n",
      "Epoch 41/200\n",
      "1313/1313 [==============================] - 2s 2ms/step - loss: 0.4724 - accuracy: 0.8554\n",
      "Epoch 42/200\n",
      "1313/1313 [==============================] - 2s 1ms/step - loss: 0.4746 - accuracy: 0.8555\n",
      "Epoch 43/200\n",
      "1313/1313 [==============================] - 2s 2ms/step - loss: 0.4745 - accuracy: 0.8544\n",
      "Epoch 44/200\n",
      "1313/1313 [==============================] - 2s 1ms/step - loss: 0.4744 - accuracy: 0.8538\n",
      "Epoch 45/200\n",
      "1313/1313 [==============================] - 2s 2ms/step - loss: 0.4710 - accuracy: 0.8553\n",
      "Epoch 46/200\n",
      "1313/1313 [==============================] - 2s 2ms/step - loss: 0.4705 - accuracy: 0.8564\n",
      "Epoch 47/200\n",
      "1313/1313 [==============================] - 2s 1ms/step - loss: 0.4697 - accuracy: 0.8576\n",
      "Epoch 48/200\n",
      "1313/1313 [==============================] - 2s 2ms/step - loss: 0.4682 - accuracy: 0.8575\n",
      "Epoch 49/200\n",
      "1313/1313 [==============================] - 2s 1ms/step - loss: 0.4696 - accuracy: 0.8560\n",
      "Epoch 50/200\n",
      "1313/1313 [==============================] - 2s 2ms/step - loss: 0.4679 - accuracy: 0.8567\n",
      "Epoch 51/200\n",
      "1313/1313 [==============================] - 2s 2ms/step - loss: 0.4676 - accuracy: 0.8571\n",
      "Epoch 52/200\n",
      "1313/1313 [==============================] - 2s 1ms/step - loss: 0.4678 - accuracy: 0.8572\n",
      "Epoch 53/200\n",
      "1313/1313 [==============================] - 2s 2ms/step - loss: 0.4649 - accuracy: 0.8580\n",
      "Epoch 54/200\n",
      "1313/1313 [==============================] - 2s 2ms/step - loss: 0.4644 - accuracy: 0.8579\n",
      "Epoch 55/200\n",
      "1313/1313 [==============================] - 2s 2ms/step - loss: 0.4641 - accuracy: 0.8575\n",
      "Epoch 56/200\n",
      "1313/1313 [==============================] - 2s 2ms/step - loss: 0.4665 - accuracy: 0.8560\n",
      "Epoch 57/200\n",
      "1313/1313 [==============================] - 2s 1ms/step - loss: 0.4637 - accuracy: 0.8567\n",
      "Epoch 58/200\n",
      "1313/1313 [==============================] - 2s 2ms/step - loss: 0.4618 - accuracy: 0.8584\n",
      "Epoch 59/200\n",
      "1313/1313 [==============================] - 2s 2ms/step - loss: 0.4625 - accuracy: 0.8577\n",
      "Epoch 60/200\n",
      "1313/1313 [==============================] - 2s 2ms/step - loss: 0.4615 - accuracy: 0.8588\n",
      "Epoch 61/200\n",
      "1313/1313 [==============================] - 2s 2ms/step - loss: 0.4614 - accuracy: 0.8586\n",
      "Epoch 62/200\n",
      "1313/1313 [==============================] - 2s 2ms/step - loss: 0.4608 - accuracy: 0.8587\n",
      "Epoch 63/200\n",
      "1313/1313 [==============================] - 2s 2ms/step - loss: 0.4577 - accuracy: 0.8612\n",
      "Epoch 64/200\n",
      "1313/1313 [==============================] - 2s 2ms/step - loss: 0.4582 - accuracy: 0.8591\n",
      "Epoch 65/200\n",
      "1313/1313 [==============================] - 2s 2ms/step - loss: 0.4585 - accuracy: 0.8585\n",
      "Epoch 66/200\n",
      "1313/1313 [==============================] - 2s 2ms/step - loss: 0.4573 - accuracy: 0.8604\n",
      "Epoch 67/200\n",
      "1313/1313 [==============================] - 3s 2ms/step - loss: 0.4578 - accuracy: 0.8602\n",
      "Epoch 68/200\n",
      "1313/1313 [==============================] - 3s 2ms/step - loss: 0.4586 - accuracy: 0.8587\n",
      "Epoch 69/200\n",
      "1313/1313 [==============================] - 3s 2ms/step - loss: 0.4550 - accuracy: 0.8612\n",
      "Epoch 70/200\n",
      "1313/1313 [==============================] - 3s 2ms/step - loss: 0.4560 - accuracy: 0.8612\n",
      "Epoch 71/200\n",
      "1313/1313 [==============================] - 3s 2ms/step - loss: 0.4546 - accuracy: 0.8600\n",
      "Epoch 72/200\n",
      "1313/1313 [==============================] - 3s 2ms/step - loss: 0.4526 - accuracy: 0.8610\n",
      "Epoch 73/200\n",
      "1313/1313 [==============================] - 3s 2ms/step - loss: 0.4538 - accuracy: 0.8615\n",
      "Epoch 74/200\n",
      "1313/1313 [==============================] - 3s 2ms/step - loss: 0.4544 - accuracy: 0.8620\n",
      "Epoch 75/200\n",
      "1313/1313 [==============================] - 3s 2ms/step - loss: 0.4530 - accuracy: 0.8628\n",
      "Epoch 76/200\n",
      "1313/1313 [==============================] - 3s 2ms/step - loss: 0.4525 - accuracy: 0.8607\n",
      "Epoch 77/200\n",
      "1313/1313 [==============================] - 3s 2ms/step - loss: 0.4515 - accuracy: 0.8611\n",
      "Epoch 78/200\n",
      "1313/1313 [==============================] - 3s 2ms/step - loss: 0.4520 - accuracy: 0.8613\n",
      "Epoch 79/200\n",
      "1313/1313 [==============================] - 2s 2ms/step - loss: 0.4522 - accuracy: 0.8596\n",
      "Epoch 80/200\n",
      "1313/1313 [==============================] - 2s 2ms/step - loss: 0.4503 - accuracy: 0.8638\n",
      "Epoch 81/200\n",
      "1313/1313 [==============================] - 2s 2ms/step - loss: 0.4490 - accuracy: 0.8633\n",
      "Epoch 82/200\n",
      "1313/1313 [==============================] - 2s 2ms/step - loss: 0.4494 - accuracy: 0.8612\n",
      "Epoch 83/200\n",
      "1313/1313 [==============================] - 3s 2ms/step - loss: 0.4471 - accuracy: 0.8623\n",
      "Epoch 84/200\n",
      "1313/1313 [==============================] - 2s 2ms/step - loss: 0.4484 - accuracy: 0.8629\n",
      "Epoch 85/200\n",
      "1313/1313 [==============================] - 2s 2ms/step - loss: 0.4474 - accuracy: 0.8629\n",
      "Epoch 86/200\n",
      "1313/1313 [==============================] - 3s 2ms/step - loss: 0.4449 - accuracy: 0.8649\n",
      "Epoch 87/200\n",
      "1313/1313 [==============================] - 2s 2ms/step - loss: 0.4447 - accuracy: 0.8643\n",
      "Epoch 88/200\n",
      "1313/1313 [==============================] - 3s 2ms/step - loss: 0.4463 - accuracy: 0.8630\n",
      "Epoch 89/200\n",
      "1313/1313 [==============================] - 2s 2ms/step - loss: 0.4458 - accuracy: 0.8645\n",
      "Epoch 90/200\n",
      "1313/1313 [==============================] - 3s 2ms/step - loss: 0.4440 - accuracy: 0.8652\n",
      "Epoch 91/200\n",
      "1313/1313 [==============================] - 3s 2ms/step - loss: 0.4435 - accuracy: 0.8638\n",
      "Epoch 92/200\n",
      "1313/1313 [==============================] - 3s 2ms/step - loss: 0.4445 - accuracy: 0.8632\n",
      "Epoch 93/200\n",
      "1313/1313 [==============================] - 3s 2ms/step - loss: 0.4435 - accuracy: 0.8640\n",
      "Epoch 94/200\n",
      "1313/1313 [==============================] - 3s 2ms/step - loss: 0.4423 - accuracy: 0.8643\n",
      "Epoch 95/200\n",
      "1313/1313 [==============================] - 3s 2ms/step - loss: 0.4427 - accuracy: 0.8644\n",
      "Epoch 96/200\n",
      "1313/1313 [==============================] - 3s 2ms/step - loss: 0.4417 - accuracy: 0.8650\n",
      "Epoch 97/200\n",
      "1313/1313 [==============================] - 3s 2ms/step - loss: 0.4402 - accuracy: 0.8641\n",
      "Epoch 98/200\n",
      "1313/1313 [==============================] - 3s 2ms/step - loss: 0.4419 - accuracy: 0.8643\n",
      "Epoch 99/200\n",
      "1313/1313 [==============================] - 3s 2ms/step - loss: 0.4402 - accuracy: 0.8650\n",
      "Epoch 100/200\n",
      "1313/1313 [==============================] - 3s 2ms/step - loss: 0.4391 - accuracy: 0.8651\n",
      "Epoch 101/200\n",
      "1313/1313 [==============================] - 3s 2ms/step - loss: 0.4391 - accuracy: 0.8654\n",
      "Epoch 102/200\n",
      "1313/1313 [==============================] - 3s 2ms/step - loss: 0.4380 - accuracy: 0.8645\n",
      "Epoch 103/200\n",
      "1313/1313 [==============================] - 3s 2ms/step - loss: 0.4375 - accuracy: 0.8673\n",
      "Epoch 104/200\n",
      "1313/1313 [==============================] - 3s 2ms/step - loss: 0.4373 - accuracy: 0.8652\n",
      "Epoch 105/200\n",
      "1313/1313 [==============================] - 3s 2ms/step - loss: 0.4374 - accuracy: 0.8645\n",
      "Epoch 106/200\n",
      "1313/1313 [==============================] - 3s 2ms/step - loss: 0.4350 - accuracy: 0.8667\n",
      "Epoch 107/200\n",
      "1313/1313 [==============================] - 3s 2ms/step - loss: 0.4374 - accuracy: 0.8663\n",
      "Epoch 108/200\n",
      "1313/1313 [==============================] - 2s 2ms/step - loss: 0.4356 - accuracy: 0.8664\n",
      "Epoch 109/200\n",
      "1313/1313 [==============================] - 2s 2ms/step - loss: 0.4345 - accuracy: 0.8677\n",
      "Epoch 110/200\n",
      "1313/1313 [==============================] - 2s 2ms/step - loss: 0.4352 - accuracy: 0.8670\n",
      "Epoch 111/200\n",
      "1313/1313 [==============================] - 2s 2ms/step - loss: 0.4337 - accuracy: 0.8673\n",
      "Epoch 112/200\n",
      "1313/1313 [==============================] - 2s 2ms/step - loss: 0.4338 - accuracy: 0.8661\n",
      "Epoch 113/200\n",
      "1313/1313 [==============================] - 2s 2ms/step - loss: 0.4310 - accuracy: 0.8685\n",
      "Epoch 114/200\n",
      "1313/1313 [==============================] - 2s 2ms/step - loss: 0.4325 - accuracy: 0.8687\n",
      "Epoch 115/200\n",
      "1313/1313 [==============================] - 2s 1ms/step - loss: 0.4300 - accuracy: 0.8689\n",
      "Epoch 116/200\n",
      "1313/1313 [==============================] - 2s 2ms/step - loss: 0.4322 - accuracy: 0.8683\n",
      "Epoch 117/200\n",
      "1313/1313 [==============================] - 2s 2ms/step - loss: 0.4309 - accuracy: 0.8674\n",
      "Epoch 118/200\n",
      "1313/1313 [==============================] - 2s 2ms/step - loss: 0.4310 - accuracy: 0.8669\n",
      "Epoch 119/200\n",
      "1313/1313 [==============================] - 2s 2ms/step - loss: 0.4299 - accuracy: 0.8684\n",
      "Epoch 120/200\n",
      "1313/1313 [==============================] - 3s 2ms/step - loss: 0.4308 - accuracy: 0.8675\n",
      "Epoch 121/200\n",
      "1313/1313 [==============================] - 3s 2ms/step - loss: 0.4289 - accuracy: 0.8691\n",
      "Epoch 122/200\n",
      "1313/1313 [==============================] - 3s 2ms/step - loss: 0.4287 - accuracy: 0.8686\n",
      "Epoch 123/200\n",
      "1313/1313 [==============================] - 3s 2ms/step - loss: 0.4300 - accuracy: 0.8688\n",
      "Epoch 124/200\n",
      "1313/1313 [==============================] - 3s 2ms/step - loss: 0.4278 - accuracy: 0.8691\n",
      "Epoch 125/200\n",
      "1313/1313 [==============================] - 2s 2ms/step - loss: 0.4274 - accuracy: 0.8693\n",
      "Epoch 126/200\n",
      "1313/1313 [==============================] - 3s 2ms/step - loss: 0.4271 - accuracy: 0.8687\n",
      "Epoch 127/200\n",
      "1313/1313 [==============================] - 3s 2ms/step - loss: 0.4257 - accuracy: 0.8693\n",
      "Epoch 128/200\n",
      "1313/1313 [==============================] - 2s 2ms/step - loss: 0.4257 - accuracy: 0.8705\n",
      "Epoch 129/200\n",
      "1313/1313 [==============================] - 2s 2ms/step - loss: 0.4252 - accuracy: 0.8701\n",
      "Epoch 130/200\n",
      "1313/1313 [==============================] - 2s 2ms/step - loss: 0.4260 - accuracy: 0.8703\n",
      "Epoch 131/200\n",
      "1313/1313 [==============================] - 2s 2ms/step - loss: 0.4252 - accuracy: 0.8703\n",
      "Epoch 132/200\n",
      "1313/1313 [==============================] - 2s 1ms/step - loss: 0.4236 - accuracy: 0.8696\n",
      "Epoch 133/200\n",
      "1313/1313 [==============================] - 2s 2ms/step - loss: 0.4247 - accuracy: 0.8697\n",
      "Epoch 134/200\n",
      "1313/1313 [==============================] - 2s 2ms/step - loss: 0.4221 - accuracy: 0.8704\n",
      "Epoch 135/200\n",
      "1313/1313 [==============================] - 2s 2ms/step - loss: 0.4239 - accuracy: 0.8699\n",
      "Epoch 136/200\n",
      "1313/1313 [==============================] - 2s 1ms/step - loss: 0.4215 - accuracy: 0.8708\n",
      "Epoch 137/200\n",
      "1313/1313 [==============================] - 2s 2ms/step - loss: 0.4210 - accuracy: 0.8717\n",
      "Epoch 138/200\n",
      "1313/1313 [==============================] - 2s 2ms/step - loss: 0.4218 - accuracy: 0.8715\n",
      "Epoch 139/200\n",
      "1313/1313 [==============================] - 2s 2ms/step - loss: 0.4219 - accuracy: 0.8716\n",
      "Epoch 140/200\n",
      "1313/1313 [==============================] - 2s 2ms/step - loss: 0.4198 - accuracy: 0.8705\n",
      "Epoch 141/200\n",
      "1313/1313 [==============================] - 2s 1ms/step - loss: 0.4198 - accuracy: 0.8705\n",
      "Epoch 142/200\n",
      "1313/1313 [==============================] - 2s 2ms/step - loss: 0.4207 - accuracy: 0.8703\n",
      "Epoch 143/200\n",
      "1313/1313 [==============================] - 2s 2ms/step - loss: 0.4191 - accuracy: 0.8726\n",
      "Epoch 144/200\n",
      "1313/1313 [==============================] - 2s 2ms/step - loss: 0.4208 - accuracy: 0.8706\n",
      "Epoch 145/200\n",
      "1313/1313 [==============================] - 2s 2ms/step - loss: 0.4178 - accuracy: 0.8713\n",
      "Epoch 146/200\n",
      "1313/1313 [==============================] - 2s 2ms/step - loss: 0.4175 - accuracy: 0.8716\n",
      "Epoch 147/200\n",
      "1313/1313 [==============================] - 2s 2ms/step - loss: 0.4180 - accuracy: 0.8717\n",
      "Epoch 148/200\n",
      "1313/1313 [==============================] - 2s 1ms/step - loss: 0.4185 - accuracy: 0.8713\n",
      "Epoch 149/200\n",
      "1313/1313 [==============================] - 2s 1ms/step - loss: 0.4170 - accuracy: 0.8722\n",
      "Epoch 150/200\n",
      "1313/1313 [==============================] - 2s 2ms/step - loss: 0.4162 - accuracy: 0.8724\n",
      "Epoch 151/200\n",
      "1313/1313 [==============================] - 2s 2ms/step - loss: 0.4167 - accuracy: 0.8724\n",
      "Epoch 152/200\n",
      "1313/1313 [==============================] - 2s 2ms/step - loss: 0.4155 - accuracy: 0.8719\n",
      "Epoch 153/200\n",
      "1313/1313 [==============================] - 2s 2ms/step - loss: 0.4162 - accuracy: 0.8732\n",
      "Epoch 154/200\n",
      "1313/1313 [==============================] - 2s 1ms/step - loss: 0.4141 - accuracy: 0.8725\n",
      "Epoch 155/200\n",
      "1313/1313 [==============================] - 2s 2ms/step - loss: 0.4159 - accuracy: 0.8724\n",
      "Epoch 156/200\n",
      "1313/1313 [==============================] - 2s 2ms/step - loss: 0.4127 - accuracy: 0.8732\n",
      "Epoch 157/200\n"
     ]
    },
    {
     "name": "stdout",
     "output_type": "stream",
     "text": [
      "1313/1313 [==============================] - 2s 1ms/step - loss: 0.4147 - accuracy: 0.8729\n",
      "Epoch 158/200\n",
      "1313/1313 [==============================] - 2s 1ms/step - loss: 0.4118 - accuracy: 0.8755\n",
      "Epoch 159/200\n",
      "1313/1313 [==============================] - 2s 1ms/step - loss: 0.4125 - accuracy: 0.8739\n",
      "Epoch 160/200\n",
      "1313/1313 [==============================] - 2s 1ms/step - loss: 0.4127 - accuracy: 0.8742\n",
      "Epoch 161/200\n",
      "1313/1313 [==============================] - 2s 1ms/step - loss: 0.4113 - accuracy: 0.8743\n",
      "Epoch 162/200\n",
      "1313/1313 [==============================] - 2s 1ms/step - loss: 0.4119 - accuracy: 0.8742\n",
      "Epoch 163/200\n",
      "1313/1313 [==============================] - 2s 1ms/step - loss: 0.4109 - accuracy: 0.8744\n",
      "Epoch 164/200\n",
      "1313/1313 [==============================] - 2s 1ms/step - loss: 0.4117 - accuracy: 0.8738\n",
      "Epoch 165/200\n",
      "1313/1313 [==============================] - 2s 1ms/step - loss: 0.4099 - accuracy: 0.8743\n",
      "Epoch 166/200\n",
      "1313/1313 [==============================] - 2s 1ms/step - loss: 0.4111 - accuracy: 0.8732\n",
      "Epoch 167/200\n",
      "1313/1313 [==============================] - 2s 1ms/step - loss: 0.4107 - accuracy: 0.8737\n",
      "Epoch 168/200\n",
      "1313/1313 [==============================] - 2s 1ms/step - loss: 0.4073 - accuracy: 0.8770\n",
      "Epoch 169/200\n",
      "1313/1313 [==============================] - 2s 1ms/step - loss: 0.4089 - accuracy: 0.8751\n",
      "Epoch 170/200\n",
      "1313/1313 [==============================] - 2s 1ms/step - loss: 0.4100 - accuracy: 0.8739\n",
      "Epoch 171/200\n",
      "1313/1313 [==============================] - 2s 1ms/step - loss: 0.4066 - accuracy: 0.8761\n",
      "Epoch 172/200\n",
      "1313/1313 [==============================] - 2s 1ms/step - loss: 0.4075 - accuracy: 0.8753\n",
      "Epoch 173/200\n",
      "1313/1313 [==============================] - 2s 1ms/step - loss: 0.4061 - accuracy: 0.8758\n",
      "Epoch 174/200\n",
      "1313/1313 [==============================] - 2s 1ms/step - loss: 0.4060 - accuracy: 0.8752\n",
      "Epoch 175/200\n",
      "1313/1313 [==============================] - 2s 1ms/step - loss: 0.4071 - accuracy: 0.8754\n",
      "Epoch 176/200\n",
      "1313/1313 [==============================] - 2s 1ms/step - loss: 0.4068 - accuracy: 0.8749\n",
      "Epoch 177/200\n",
      "1313/1313 [==============================] - 2s 1ms/step - loss: 0.4064 - accuracy: 0.8764\n",
      "Epoch 178/200\n",
      "1313/1313 [==============================] - 2s 1ms/step - loss: 0.4064 - accuracy: 0.8751\n",
      "Epoch 179/200\n",
      "1313/1313 [==============================] - 2s 1ms/step - loss: 0.4050 - accuracy: 0.8765\n",
      "Epoch 180/200\n",
      "1313/1313 [==============================] - 2s 1ms/step - loss: 0.4050 - accuracy: 0.8764\n",
      "Epoch 181/200\n",
      "1313/1313 [==============================] - 2s 2ms/step - loss: 0.4039 - accuracy: 0.8766\n",
      "Epoch 182/200\n",
      "1313/1313 [==============================] - 2s 1ms/step - loss: 0.4036 - accuracy: 0.8769\n",
      "Epoch 183/200\n",
      "1313/1313 [==============================] - 2s 1ms/step - loss: 0.4035 - accuracy: 0.8756\n",
      "Epoch 184/200\n",
      "1313/1313 [==============================] - 2s 2ms/step - loss: 0.4025 - accuracy: 0.8770\n",
      "Epoch 185/200\n",
      "1313/1313 [==============================] - 2s 1ms/step - loss: 0.4033 - accuracy: 0.8767\n",
      "Epoch 186/200\n",
      "1313/1313 [==============================] - 2s 1ms/step - loss: 0.4022 - accuracy: 0.8776\n",
      "Epoch 187/200\n",
      "1313/1313 [==============================] - 2s 1ms/step - loss: 0.4018 - accuracy: 0.8773\n",
      "Epoch 188/200\n",
      "1313/1313 [==============================] - 2s 1ms/step - loss: 0.4012 - accuracy: 0.8775\n",
      "Epoch 189/200\n",
      "1313/1313 [==============================] - 2s 1ms/step - loss: 0.4003 - accuracy: 0.8774\n",
      "Epoch 190/200\n",
      "1313/1313 [==============================] - 2s 1ms/step - loss: 0.4011 - accuracy: 0.8775\n",
      "Epoch 191/200\n",
      "1313/1313 [==============================] - 2s 1ms/step - loss: 0.4014 - accuracy: 0.8780\n",
      "Epoch 192/200\n",
      "1313/1313 [==============================] - 2s 1ms/step - loss: 0.4011 - accuracy: 0.8776\n",
      "Epoch 193/200\n",
      "1313/1313 [==============================] - 2s 1ms/step - loss: 0.3992 - accuracy: 0.8790\n",
      "Epoch 194/200\n",
      "1313/1313 [==============================] - 2s 2ms/step - loss: 0.3991 - accuracy: 0.8789\n",
      "Epoch 195/200\n",
      "1313/1313 [==============================] - 2s 1ms/step - loss: 0.3989 - accuracy: 0.8783\n",
      "Epoch 196/200\n",
      "1313/1313 [==============================] - 2s 1ms/step - loss: 0.3993 - accuracy: 0.8773\n",
      "Epoch 197/200\n",
      "1313/1313 [==============================] - 2s 1ms/step - loss: 0.3982 - accuracy: 0.8787\n",
      "Epoch 198/200\n",
      "1313/1313 [==============================] - 2s 1ms/step - loss: 0.3992 - accuracy: 0.8785\n",
      "Epoch 199/200\n",
      "1313/1313 [==============================] - 2s 2ms/step - loss: 0.3987 - accuracy: 0.8789\n",
      "Epoch 200/200\n",
      "1313/1313 [==============================] - 2s 2ms/step - loss: 0.3968 - accuracy: 0.8783\n"
     ]
    }
   ],
   "source": [
    "history = model.fit(X_train, y_train, epochs = 200, verbose = 1)"
   ]
  },
  {
   "cell_type": "code",
   "execution_count": 41,
   "metadata": {},
   "outputs": [
    {
     "name": "stdout",
     "output_type": "stream",
     "text": [
      "563/563 [==============================] - 1s 974us/step - loss: 0.6428 - accuracy: 0.8276\n"
     ]
    }
   ],
   "source": [
    "results = model.evaluate(X_test, y_test)"
   ]
  },
  {
   "cell_type": "code",
   "execution_count": 42,
   "metadata": {},
   "outputs": [
    {
     "name": "stdout",
     "output_type": "stream",
     "text": [
      "Test accuracy:  0.8275555372238159\n"
     ]
    }
   ],
   "source": [
    "print('Test accuracy: ', results[1])"
   ]
  },
  {
   "cell_type": "code",
   "execution_count": 43,
   "metadata": {},
   "outputs": [
    {
     "name": "stdout",
     "output_type": "stream",
     "text": [
      "Model: \"sequential\"\n",
      "_________________________________________________________________\n",
      "Layer (type)                 Output Shape              Param #   \n",
      "=================================================================\n",
      "flatten_1 (Flatten)          (None, 1024)              0         \n",
      "_________________________________________________________________\n",
      "activation (Activation)      (None, 1024)              0         \n",
      "_________________________________________________________________\n",
      "dense (Dense)                (None, 50)                51250     \n",
      "_________________________________________________________________\n",
      "activation_1 (Activation)    (None, 50)                0         \n",
      "_________________________________________________________________\n",
      "dense_1 (Dense)              (None, 50)                2550      \n",
      "_________________________________________________________________\n",
      "activation_2 (Activation)    (None, 50)                0         \n",
      "_________________________________________________________________\n",
      "dense_2 (Dense)              (None, 10)                510       \n",
      "_________________________________________________________________\n",
      "activation_3 (Activation)    (None, 10)                0         \n",
      "=================================================================\n",
      "Total params: 54,310\n",
      "Trainable params: 54,310\n",
      "Non-trainable params: 0\n",
      "_________________________________________________________________\n"
     ]
    }
   ],
   "source": [
    "model.summary()"
   ]
  },
  {
   "cell_type": "code",
   "execution_count": 44,
   "metadata": {},
   "outputs": [
    {
     "name": "stdout",
     "output_type": "stream",
     "text": [
      "['loss', 'accuracy']\n",
      "[0.6428399682044983, 0.8275555372238159]\n"
     ]
    }
   ],
   "source": [
    "print(model.metrics_names)\n",
    "print(results)  "
   ]
  },
  {
   "cell_type": "markdown",
   "metadata": {},
   "source": [
    "## Observations:\n",
    "\n",
    "- We have applied flatten layer followed by dense layers\n",
    "\n",
    "- Activation functions relu and softmax is used\n",
    "\n",
    "- With adam optimizer and the loss function as categorical cross entropy, we get test accuracy of 82% and loss of 64%"
   ]
  },
  {
   "cell_type": "code",
   "execution_count": null,
   "metadata": {},
   "outputs": [],
   "source": []
  }
 ],
 "metadata": {
  "kernelspec": {
   "display_name": "Python 3",
   "language": "python",
   "name": "python3"
  },
  "language_info": {
   "codemirror_mode": {
    "name": "ipython",
    "version": 3
   },
   "file_extension": ".py",
   "mimetype": "text/x-python",
   "name": "python",
   "nbconvert_exporter": "python",
   "pygments_lexer": "ipython3",
   "version": "3.6.13"
  }
 },
 "nbformat": 4,
 "nbformat_minor": 4
}
